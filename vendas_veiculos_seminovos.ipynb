{
  "cells": [
    {
      "cell_type": "markdown",
      "metadata": {
        "id": "view-in-github",
        "colab_type": "text"
      },
      "source": [
        "<a href=\"https://colab.research.google.com/github/fabiobaroliveira/gerador_base_de_dados/blob/main/vendas_veiculos_seminovos.ipynb\" target=\"_parent\"><img src=\"https://colab.research.google.com/assets/colab-badge.svg\" alt=\"Open In Colab\"/></a>"
      ]
    },
    {
      "cell_type": "code",
      "execution_count": 32,
      "metadata": {
        "id": "oR0DEN06WoE-",
        "outputId": "618b1a2f-7c06-4abf-d21c-dcb7282cfabc",
        "colab": {
          "base_uri": "https://localhost:8080/",
          "height": 0
        }
      },
      "outputs": [
        {
          "output_type": "stream",
          "name": "stdout",
          "text": [
            "Requirement already satisfied: faker in /usr/local/lib/python3.11/dist-packages (36.1.1)\n",
            "Requirement already satisfied: tzdata in /usr/local/lib/python3.11/dist-packages (from faker) (2025.1)\n"
          ]
        }
      ],
      "source": [
        "# Necessário instalar biblioteca Faker\n",
        "! pip install faker"
      ]
    },
    {
      "cell_type": "code",
      "execution_count": null,
      "metadata": {
        "colab": {
          "base_uri": "https://localhost:8080/",
          "height": 400
        },
        "id": "BYFMJAnPRpvP",
        "outputId": "7c453404-c921-4789-c935-ede17dae657d"
      },
      "outputs": [
        {
          "data": {
            "text/html": [
              "<div>\n",
              "<style scoped>\n",
              "    .dataframe tbody tr th:only-of-type {\n",
              "        vertical-align: middle;\n",
              "    }\n",
              "\n",
              "    .dataframe tbody tr th {\n",
              "        vertical-align: top;\n",
              "    }\n",
              "\n",
              "    .dataframe thead th {\n",
              "        text-align: right;\n",
              "    }\n",
              "</style>\n",
              "<table border=\"1\" class=\"dataframe\">\n",
              "  <thead>\n",
              "    <tr style=\"text-align: right;\">\n",
              "      <th></th>\n",
              "      <th>ID</th>\n",
              "      <th>Nome Completo</th>\n",
              "      <th>Idade</th>\n",
              "      <th>CPF</th>\n",
              "      <th>Sexo</th>\n",
              "      <th>E-mail</th>\n",
              "      <th>Telefone</th>\n",
              "      <th>Cidade</th>\n",
              "      <th>Estado</th>\n",
              "      <th>Marca</th>\n",
              "      <th>Modelo</th>\n",
              "      <th>Ano_fabricacao</th>\n",
              "      <th>Cor</th>\n",
              "      <th>Valor_venda</th>\n",
              "      <th>Data_venda</th>\n",
              "      <th>Forma_pagamento</th>\n",
              "    </tr>\n",
              "  </thead>\n",
              "  <tbody>\n",
              "    <tr>\n",
              "      <th>0</th>\n",
              "      <td>1</td>\n",
              "      <td>Milena Vasconcelos</td>\n",
              "      <td>42</td>\n",
              "      <td>532.480.716-80</td>\n",
              "      <td>Feminino</td>\n",
              "      <td>cnovaes@example.com</td>\n",
              "      <td>(041) 9877-0414</td>\n",
              "      <td>Guerra de Silva</td>\n",
              "      <td>MG</td>\n",
              "      <td>Fiat</td>\n",
              "      <td>Pulse</td>\n",
              "      <td>2021</td>\n",
              "      <td>Azul</td>\n",
              "      <td>52236.56</td>\n",
              "      <td>2019-09-18</td>\n",
              "      <td>À vista</td>\n",
              "    </tr>\n",
              "    <tr>\n",
              "      <th>1</th>\n",
              "      <td>2</td>\n",
              "      <td>Hellena Siqueira</td>\n",
              "      <td>32</td>\n",
              "      <td>340.872.195-50</td>\n",
              "      <td>Feminino</td>\n",
              "      <td>allana46@example.com</td>\n",
              "      <td>0800 757 1465</td>\n",
              "      <td>Costa</td>\n",
              "      <td>MG</td>\n",
              "      <td>Toyota</td>\n",
              "      <td>Yaris</td>\n",
              "      <td>2019</td>\n",
              "      <td>Vermelho</td>\n",
              "      <td>210041.16</td>\n",
              "      <td>2019-01-01</td>\n",
              "      <td>À vista</td>\n",
              "    </tr>\n",
              "    <tr>\n",
              "      <th>2</th>\n",
              "      <td>3</td>\n",
              "      <td>Maria Flor Freitas</td>\n",
              "      <td>47</td>\n",
              "      <td>743.690.258-00</td>\n",
              "      <td>Feminino</td>\n",
              "      <td>lorenzoborges@example.net</td>\n",
              "      <td>+55 (071) 4629-6822</td>\n",
              "      <td>Barros</td>\n",
              "      <td>PE</td>\n",
              "      <td>Ford</td>\n",
              "      <td>Ka</td>\n",
              "      <td>2018</td>\n",
              "      <td>Vermelho</td>\n",
              "      <td>161996.76</td>\n",
              "      <td>2023-01-22</td>\n",
              "      <td>À vista</td>\n",
              "    </tr>\n",
              "    <tr>\n",
              "      <th>3</th>\n",
              "      <td>4</td>\n",
              "      <td>Carlos Eduardo Carvalho</td>\n",
              "      <td>45</td>\n",
              "      <td>728.514.639-00</td>\n",
              "      <td>Masculino</td>\n",
              "      <td>viniciusaraujo@example.com</td>\n",
              "      <td>+55 (061) 3250 9446</td>\n",
              "      <td>Silva da Serra</td>\n",
              "      <td>PI</td>\n",
              "      <td>Ford</td>\n",
              "      <td>Ka Sedan</td>\n",
              "      <td>2020</td>\n",
              "      <td>Cinza</td>\n",
              "      <td>123873.27</td>\n",
              "      <td>2021-03-13</td>\n",
              "      <td>À vista</td>\n",
              "    </tr>\n",
              "    <tr>\n",
              "      <th>4</th>\n",
              "      <td>5</td>\n",
              "      <td>Sarah Alves</td>\n",
              "      <td>51</td>\n",
              "      <td>357.609.841-01</td>\n",
              "      <td>Feminino</td>\n",
              "      <td>vicentebarros@example.net</td>\n",
              "      <td>+55 71 5825 0596</td>\n",
              "      <td>Albuquerque</td>\n",
              "      <td>MT</td>\n",
              "      <td>Ford</td>\n",
              "      <td>Ka Sedan</td>\n",
              "      <td>2018</td>\n",
              "      <td>Azul</td>\n",
              "      <td>103761.76</td>\n",
              "      <td>2023-08-05</td>\n",
              "      <td>À vista</td>\n",
              "    </tr>\n",
              "  </tbody>\n",
              "</table>\n",
              "</div>"
            ],
            "text/plain": [
              "   ID            Nome Completo  Idade             CPF       Sexo  \\\n",
              "0   1       Milena Vasconcelos     42  532.480.716-80   Feminino   \n",
              "1   2         Hellena Siqueira     32  340.872.195-50   Feminino   \n",
              "2   3       Maria Flor Freitas     47  743.690.258-00   Feminino   \n",
              "3   4  Carlos Eduardo Carvalho     45  728.514.639-00  Masculino   \n",
              "4   5              Sarah Alves     51  357.609.841-01   Feminino   \n",
              "\n",
              "                       E-mail             Telefone           Cidade Estado  \\\n",
              "0         cnovaes@example.com      (041) 9877-0414  Guerra de Silva     MG   \n",
              "1        allana46@example.com        0800 757 1465            Costa     MG   \n",
              "2   lorenzoborges@example.net  +55 (071) 4629-6822           Barros     PE   \n",
              "3  viniciusaraujo@example.com  +55 (061) 3250 9446   Silva da Serra     PI   \n",
              "4   vicentebarros@example.net     +55 71 5825 0596      Albuquerque     MT   \n",
              "\n",
              "    Marca    Modelo  Ano_fabricacao       Cor  Valor_venda  Data_venda  \\\n",
              "0    Fiat     Pulse            2021      Azul     52236.56  2019-09-18   \n",
              "1  Toyota     Yaris            2019  Vermelho    210041.16  2019-01-01   \n",
              "2    Ford        Ka            2018  Vermelho    161996.76  2023-01-22   \n",
              "3    Ford  Ka Sedan            2020     Cinza    123873.27  2021-03-13   \n",
              "4    Ford  Ka Sedan            2018      Azul    103761.76  2023-08-05   \n",
              "\n",
              "  Forma_pagamento  \n",
              "0         À vista  \n",
              "1         À vista  \n",
              "2         À vista  \n",
              "3         À vista  \n",
              "4         À vista  "
            ]
          },
          "execution_count": 6,
          "metadata": {},
          "output_type": "execute_result"
        }
      ],
      "source": [
        "import pandas as pd\n",
        "import random\n",
        "from faker import Faker\n",
        "fake = Faker('pt_BR')\n",
        "\n",
        "# Listas de valores possíveis\n",
        "marcas_modelos = {\n",
        "    \"Fiat\" : [ \"Mobi\",\"Argo\", \"Cronos\", \"500e\", \"Pulse\", \"Fastback\", \"Strada\", \"Toro\", \"Fiorino\"],\n",
        "    \"Volskwagen\" : [ \"Up\", \"Gol\", \"Voyage\", \"Saveiro\", \"Polo\", \"Virtus\", \"Nivus\", \"T-Cross\", \"Amarok\"],\n",
        "    \"Chevrolet\" : [ \"Onix\", \"Prisma\", \"Cruze\", \"Tracker\", \"S-10\", \"TrailBlazer\"],\n",
        "    \"Hyundai\" : [ \"HB20\", \"HB20S\", \"Creta\", \"Tucson\"],\n",
        "    \"Honda\" : [ \"Civic\", \"HR-V\", \"City\", \"Fit\", \"CR-V\"],\n",
        "    \"Toyota\" : [ \"Etios\",\"Yaris\",\"Corolla\", \"Camry\", \"Corolla Cross\", \"Hilux\"],\n",
        "    \"Ford\" : [ \"Ka\", \"Ka Sedan\", \"Ecosport\", \"Ranger\", \"Focus\", \"Territory\"],\n",
        "    \"Peugeot\" : [ \"208\" , \"308\", \"2008\", \"3008\", \"Partner\"],\n",
        "    \"Citroen\" : [ \"C3\", \"Aircross\", \"C4\", \"C4 Grand Picasso\", \"Basalt\"],\n",
        "    \"Jeep\" : [ \"Compass\", \"Renegade\", \"Wrangler\", \"Cherokee\"]\n",
        "}\n",
        "\n",
        "formas_pagamento = [\"À vista\", \"Financiamento\", \"Consórcio\", \"Leasing\"]\n",
        "cores = [\"Preto\", \"Branco\", \"Prata\", \"Vermelho\", \"Azul\", \"Verde\", \"Cinza\"]\n",
        "sexo_opcoes = [\"Masculino\", \"Feminino\"]\n",
        "\n",
        "# Função para gerar pesos aleatórios\n",
        "def gerar_pesos_aleatorios(n):\n",
        "    pesos = [random.randint(1, 100) for _ in range(n)]  # Gera n pesos aleatórios\n",
        "    total = sum(pesos)  # Calcula a soma dos pesos\n",
        "    pesos = [round((p / total) * 100, 2) for p in pesos]  # Normaliza para somar 100\n",
        "    return pesos\n",
        "\n",
        "# Gerando pesos aleatórios para marcas\n",
        "marcas = list(marcas_modelos.keys())\n",
        "pesos_marcas = gerar_pesos_aleatorios(len(marcas))\n",
        "\n",
        "# Gerando pesos aleatórios para formas de pagamento\n",
        "pesos_formas_pagamento = gerar_pesos_aleatorios(len(formas_pagamento))\n",
        "\n",
        "# Gerando pesos aleatórios para cores\n",
        "pesos_cores = gerar_pesos_aleatorios(len(cores))\n",
        "\n",
        "# Gerando pesos aleatórios para sexo\n",
        "pesos_sexo = gerar_pesos_aleatorios(len(sexo_opcoes))\n",
        "\n",
        "# Gerando os dados fictícios\n",
        "dados = []\n",
        "\n",
        "for i in range(1, 10951):\n",
        "    sexo = random.choices(sexo_opcoes, weights=pesos_sexo, k=1)[0]\n",
        "    nome = fake.first_name_male() if sexo == \"Masculino\" else fake.first_name_female()\n",
        "    sobrenome = fake.last_name()\n",
        "    nome_completo = f\"{nome} {sobrenome}\"\n",
        "    idade = random.randint(18, 70)\n",
        "    cpf = fake.cpf()\n",
        "    email = fake.email()\n",
        "    telefone = fake.phone_number()\n",
        "    cidade = fake.city()\n",
        "    estado = fake.state_abbr()\n",
        "\n",
        "    # Escolha da marca com base nos pesos aleatórios\n",
        "    marca = random.choices(marcas, weights=pesos_marcas, k=1)[0]\n",
        "    modelo = random.choice(marcas_modelos[marca])\n",
        "\n",
        "    ano_fabricacao = random.randint(2013, 2023)\n",
        "    cor = random.choices(cores, weights=pesos_cores, k=1)[0]\n",
        "    valor_venda = round(random.uniform(30000, 250000), 2)\n",
        "    data_venda = fake.date_between(start_date=\"-8y\", end_date=\"today\")\n",
        "    forma_pagamento = random.choices(formas_pagamento, weights=pesos_formas_pagamento, k=1)[0]\n",
        "\n",
        "    dados.append([\n",
        "        i, nome_completo, idade, cpf, sexo, email, telefone, cidade, estado,\n",
        "        marca, modelo, ano_fabricacao, cor, valor_venda, data_venda, forma_pagamento\n",
        "    ])\n",
        "\n",
        "# Criando o DataFrame\n",
        "colunas = [\"ID\", \"Nome Completo\", \"Idade\", \"CPF\", \"Sexo\", \"E-mail\",\n",
        "           \"Telefone\", \"Cidade\", \"Estado\", \"Marca\", \"Modelo\", \"Ano_fabricacao\",\n",
        "           \"Cor\", \"Valor_venda\", \"Data_venda\", \"Forma_pagamento\"]\n",
        "\n",
        "df_vendas = pd.DataFrame(dados, columns=colunas)\n",
        "\n",
        "# Exibindo as primeiras linhas do DataFrame\n",
        "df_vendas.head()"
      ]
    },
    {
      "cell_type": "code",
      "execution_count": null,
      "metadata": {
        "colab": {
          "base_uri": "https://localhost:8080/",
          "height": 430
        },
        "id": "r-R_R295V2Uv",
        "outputId": "7b95e869-cbd3-43b8-c5a0-7870ba484c84"
      },
      "outputs": [
        {
          "data": {
            "image/png": "[encoded data removed]",
            "text/plain": [
              "<Figure size 640x480 with 1 Axes>"
            ]
          },
          "metadata": {},
          "output_type": "display_data"
        }
      ],
      "source": [
        "# @title Gráfico para Vizualização de Divisão por Sexo\n",
        "\n",
        "from matplotlib import pyplot as plt\n",
        "import seaborn as sns\n",
        "\n",
        "df_vendas.groupby(\"Sexo\").size().plot(kind=\"barh\", color=sns.palettes.mpl_palette(\"Dark2\"))\n",
        "\n",
        "plt.gca().spines[[\"top\", \"right\",]].set_visible(False)"
      ]
    },
    {
      "cell_type": "code",
      "execution_count": null,
      "metadata": {
        "colab": {
          "base_uri": "https://localhost:8080/",
          "height": 430
        },
        "id": "T9gLz6-gVZyt",
        "outputId": "cc1b35d2-2226-4b94-df46-6e82d29d54da"
      },
      "outputs": [
        {
          "data": {
            "image/png": "[encoded data removed]",
            "text/plain": [
              "<Figure size 640x480 with 1 Axes>"
            ]
          },
          "metadata": {},
          "output_type": "display_data"
        }
      ],
      "source": [
        "# @title Gráfico para Vizualização de Divisão de Vendas por Marca\n",
        "\n",
        "from matplotlib import pyplot as plt\n",
        "import seaborn as sns\n",
        "\n",
        "# Coloca em ordem crescente\n",
        "(df_vendas.groupby(\"Marca\").size().sort_values().plot(kind=\"barh\", color=sns.palettes.mpl_palette(\"Dark2\")))\n",
        "\n",
        "# Remove bordas desnecessárias\n",
        "plt.gca().spines[['top', 'right']].set_visible(False)"
      ]
    }
  ],
  "metadata": {
    "colab": {
      "name": "gerando_tabela_dados_ficticios_vendas_veiculos_seminovos.ipynb",
      "provenance": [],
      "include_colab_link": true
    },
    "kernelspec": {
      "display_name": "Python 3",
      "name": "python3"
    },
    "language_info": {
      "codemirror_mode": {
        "name": "ipython",
        "version": 3
      },
      "file_extension": ".py",
      "mimetype": "text/x-python",
      "name": "python",
      "nbconvert_exporter": "python",
      "pygments_lexer": "ipython3",
      "version": "3.13.1"
    }
  },
  "nbformat": 4,
  "nbformat_minor": 0
}