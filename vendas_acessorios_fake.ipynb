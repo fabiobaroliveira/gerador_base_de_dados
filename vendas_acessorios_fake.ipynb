{
  "nbformat": 4,
  "nbformat_minor": 0,
  "metadata": {
    "colab": {
      "provenance": [],
      "authorship_tag": "ABX9TyNBuupuro0H66X1/sB802dZ",
      "include_colab_link": true
    },
    "kernelspec": {
      "name": "python3",
      "display_name": "Python 3"
    },
    "language_info": {
      "name": "python"
    }
  },
  "cells": [
    {
      "cell_type": "markdown",
      "metadata": {
        "id": "view-in-github",
        "colab_type": "text"
      },
      "source": [
        "<a href=\"https://colab.research.google.com/github/fabiobaroliveira/gerador_base_de_dados/blob/main/vendas_acessorios_fake.ipynb\" target=\"_parent\"><img src=\"https://colab.research.google.com/assets/colab-badge.svg\" alt=\"Open In Colab\"/></a>"
      ]
    },
    {
      "cell_type": "code",
      "source": [
        "! pip install faker"
      ],
      "metadata": {
        "colab": {
          "base_uri": "https://localhost:8080/"
        },
        "id": "ShIb4T007r0R",
        "outputId": "728203d5-a2d7-437d-d735-5b6c7292100b"
      },
      "execution_count": 1,
      "outputs": [
        {
          "output_type": "stream",
          "name": "stdout",
          "text": [
            "Collecting faker\n",
            "  Downloading faker-37.1.0-py3-none-any.whl.metadata (15 kB)\n",
            "Requirement already satisfied: tzdata in /usr/local/lib/python3.11/dist-packages (from faker) (2025.2)\n",
            "Downloading faker-37.1.0-py3-none-any.whl (1.9 MB)\n",
            "\u001b[?25l   \u001b[90m━━━━━━━━━━━━━━━━━━━━━━━━━━━━━━━━━━━━━━━━\u001b[0m \u001b[32m0.0/1.9 MB\u001b[0m \u001b[31m?\u001b[0m eta \u001b[36m-:--:--\u001b[0m\r\u001b[2K   \u001b[91m━━━━━\u001b[0m\u001b[91m╸\u001b[0m\u001b[90m━━━━━━━━━━━━━━━━━━━━━━━━━━━━━━━━━━\u001b[0m \u001b[32m0.3/1.9 MB\u001b[0m \u001b[31m8.1 MB/s\u001b[0m eta \u001b[36m0:00:01\u001b[0m\r\u001b[2K   \u001b[91m━━━━━━━━━━━━━━━━━━━━━━━━━━━━━━━━━━━━━━━\u001b[0m\u001b[91m╸\u001b[0m \u001b[32m1.9/1.9 MB\u001b[0m \u001b[31m29.3 MB/s\u001b[0m eta \u001b[36m0:00:01\u001b[0m\r\u001b[2K   \u001b[90m━━━━━━━━━━━━━━━━━━━━━━━━━━━━━━━━━━━━━━━━\u001b[0m \u001b[32m1.9/1.9 MB\u001b[0m \u001b[31m22.6 MB/s\u001b[0m eta \u001b[36m0:00:00\u001b[0m\n",
            "\u001b[?25hInstalling collected packages: faker\n",
            "Successfully installed faker-37.1.0\n"
          ]
        }
      ]
    },
    {
      "cell_type": "code",
      "execution_count": 3,
      "metadata": {
        "colab": {
          "base_uri": "https://localhost:8080/"
        },
        "id": "VHd5EbqV5b5f",
        "outputId": "4fd819f2-bcaf-4291-9c0f-19fe0d04300b"
      },
      "outputs": [
        {
          "output_type": "stream",
          "name": "stdout",
          "text": [
            "   data_venda produto_id              produto_nome    categoria canal_venda  \\\n",
            "0  2022-07-24       P002                 Kit Xenon   Iluminação  E-commerce   \n",
            "1  2024-05-04       P003        Central Multimídia          Som      Varejo   \n",
            "2  2023-10-25       P004    Filtro de Ar Esportivo  Performance      Varejo   \n",
            "3  2021-03-26       P003        Central Multimídia          Som  E-commerce   \n",
            "4  2024-02-27       P001  Sensor de Estacionamento    Segurança  E-commerce   \n",
            "\n",
            "     regiao     cliente_tipo  quantidade  preco_unitario  custo_unitario  \\\n",
            "0  Nordeste  Pessoa Jurídica           7          657.58          364.98   \n",
            "1   Sudeste    Pessoa Física           7          412.08          218.40   \n",
            "2   Sudeste  Pessoa Jurídica           5          520.78          371.02   \n",
            "3       Sul    Pessoa Física           8          682.71          384.84   \n",
            "4     Norte    Pessoa Física           1          312.97          205.75   \n",
            "\n",
            "  vendedor_id  estoque_disponivel  \n",
            "0        V171                  20  \n",
            "1        V558                  23  \n",
            "2        V761                   1  \n",
            "3        V291                  20  \n",
            "4        V847                  24  \n"
          ]
        }
      ],
      "source": [
        "import pandas as pd\n",
        "import numpy as np\n",
        "from faker import Faker\n",
        "import random\n",
        "\n",
        "faker = Faker()\n",
        "np.random.seed(42)\n",
        "\n",
        "# Parâmetros\n",
        "num_registros = 10000\n",
        "\n",
        "# Produtos simulados\n",
        "produtos = [\n",
        "    {\"produto_id\": \"P001\", \"produto_nome\": \"Sensor de Estacionamento\", \"categoria\": \"Segurança\"},\n",
        "    {\"produto_id\": \"P002\", \"produto_nome\": \"Kit Xenon\", \"categoria\": \"Iluminação\"},\n",
        "    {\"produto_id\": \"P003\", \"produto_nome\": \"Central Multimídia\", \"categoria\": \"Som\"},\n",
        "    {\"produto_id\": \"P004\", \"produto_nome\": \"Filtro de Ar Esportivo\", \"categoria\": \"Performance\"},\n",
        "    {\"produto_id\": \"P005\", \"produto_nome\": \"Câmera de Ré\", \"categoria\": \"Segurança\"},\n",
        "]\n",
        "\n",
        "# Outros parâmetros\n",
        "canais = [\"Varejo\", \"Oficina\", \"E-commerce\"]\n",
        "regioes = [\"Sudeste\", \"Sul\", \"Nordeste\", \"Centro-Oeste\", \"Norte\"]\n",
        "cliente_tipos = [\"Pessoa Física\", \"Pessoa Jurídica\"]\n",
        "\n",
        "# Geração dos dados\n",
        "dados = []\n",
        "for _ in range(num_registros):\n",
        "    produto = random.choice(produtos)\n",
        "    quantidade = np.random.randint(1, 11)\n",
        "    preco_unitario = round(np.random.uniform(100, 800), 2)\n",
        "    custo_unitario = round(preco_unitario * np.random.uniform(0.5, 0.8), 2)\n",
        "\n",
        "    dados.append({\n",
        "        \"data_venda\": faker.date_between(start_date='-6y', end_date='today'),\n",
        "        \"produto_id\": produto[\"produto_id\"],\n",
        "        \"produto_nome\": produto[\"produto_nome\"],\n",
        "        \"categoria\": produto[\"categoria\"],\n",
        "        \"canal_venda\": random.choice(canais),\n",
        "        \"regiao\": random.choice(regioes),\n",
        "        \"cliente_tipo\": random.choice(cliente_tipos),\n",
        "        \"quantidade\": quantidade,\n",
        "        \"preco_unitario\": preco_unitario,\n",
        "        \"custo_unitario\": custo_unitario,\n",
        "        \"vendedor_id\": f\"V{np.random.randint(100, 999)}\",\n",
        "        \"estoque_disponivel\": np.random.randint(0, 50)\n",
        "    })\n",
        "\n",
        "# Criar DataFrame\n",
        "df = pd.DataFrame(dados)\n",
        "\n",
        "# Salvar CSV\n",
        "df.to_csv(\"vendas_acessorios_fake.csv\", index=False)\n",
        "\n",
        "# Exibir as primeiras linhas\n",
        "print(df.head())\n"
      ]
    }
  ]
}